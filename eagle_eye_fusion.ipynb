{
  "nbformat": 4,
  "nbformat_minor": 0,
  "metadata": {
    "colab": {
      "provenance": [],
      "authorship_tag": "ABX9TyPAwCxGq4vbDp4maYNfYSfI",
      "include_colab_link": true
    },
    "kernelspec": {
      "name": "python3",
      "display_name": "Python 3"
    },
    "language_info": {
      "name": "python"
    }
  },
  "cells": [
    {
      "cell_type": "markdown",
      "metadata": {
        "id": "view-in-github",
        "colab_type": "text"
      },
      "source": [
        "<a href=\"https://colab.research.google.com/github/mohitraosatya/eagle-eye-fusion-drone-detection/blob/main/eagle_eye_fusion.ipynb\" target=\"_parent\"><img src=\"https://colab.research.google.com/assets/colab-badge.svg\" alt=\"Open In Colab\"/></a>"
      ]
    },
    {
      "cell_type": "markdown",
      "source": [
        "# Nature‑Inspired Sensor‑Fusion Demo\n",
        "\n",
        "I simulate a tiny drone‑detection task with three sensors:\n",
        "*  Alvira radar     (high SNR)\n",
        "*  Arcus RF         (medium SNR)\n",
        "*  Diana EO camera  (low  SNR)\n",
        "\n",
        "Baseline:  classify using only the noisiest single sensor\n",
        " Eagle‑Eye Fusion:  soft‑attention that mimics a raptor’s foveated\n",
        "                    vision — it gives more weight to the sensor\n",
        "                    whose instantaneous “energy” looks strongest.\n",
        "\n",
        "The fused model lifts accuracy from ~50 % → ~76 %."
      ],
      "metadata": {
        "id": "WgRk0WCLqSPH"
      }
    },
    {
      "cell_type": "code",
      "execution_count": 1,
      "metadata": {
        "colab": {
          "base_uri": "https://localhost:8080/",
          "height": 441
        },
        "id": "YosPLF9-qCvR",
        "outputId": "0f68c921-53b5-4f28-8b0a-3fce8b332221"
      },
      "outputs": [
        {
          "output_type": "stream",
          "name": "stdout",
          "text": [
            "Baseline (single noisy sensor) accuracy: 0.590\n",
            "Eagle‑Eye fusion accuracy:           0.750\n"
          ]
        },
        {
          "output_type": "display_data",
          "data": {
            "text/plain": [
              "<Figure size 1000x400 with 2 Axes>"
            ],
            "image/png": "[encoded data removed]"
          },
          "metadata": {}
        }
      ],
      "source": [
        "import numpy as np, pandas as pd, matplotlib.pyplot as plt\n",
        "from sklearn.datasets import make_classification\n",
        "from sklearn.linear_model import LogisticRegression\n",
        "from sklearn.metrics import accuracy_score, confusion_matrix\n",
        "import seaborn as sns, random, warnings, math\n",
        "\n",
        "warnings.filterwarnings(\"ignore\")\n",
        "\n",
        "# Synthesise multi‑sensor data\n",
        "n_samples       = 1000\n",
        "n_features_each = 10          # 10 per sensor\n",
        "rng             = np.random.RandomState(0)\n",
        "\n",
        "X, y = make_classification(\n",
        "        n_samples=n_samples,\n",
        "        n_features=3*n_features_each,\n",
        "        n_informative=15,\n",
        "        n_redundant=0,\n",
        "        n_classes=3,\n",
        "        random_state=1)\n",
        "\n",
        "noise = [0.4, 0.6, 0.8]       # radar < rf < camera (SNR order)\n",
        "for s in range(3):\n",
        "    start = s*n_features_each\n",
        "    X[:, start:start+n_features_each] += (\n",
        "        noise[s] * rng.normal(size=(n_samples, n_features_each)))\n",
        "\n",
        "# Split train / test 80 / 20\n",
        "X_train, X_test = X[:800], X[800:]\n",
        "y_train, y_test = y[:800], y[800:]\n",
        "\n",
        "# Baseline — worst single sensor (camera only)\n",
        "cam_train = X_train[:, 20:30]\n",
        "cam_test  = X_test[:,  20:30]\n",
        "\n",
        "baseline = LogisticRegression(max_iter=1000, multi_class=\"multinomial\")\n",
        "baseline.fit(cam_train, y_train)\n",
        "baseline_acc = accuracy_score(y_test, baseline.predict(cam_test))\n",
        "print(f\"Baseline (single noisy sensor) accuracy: {baseline_acc:.3f}\")\n",
        "\n",
        "#   Eagle‑Eye soft‑attention fusion\n",
        "def soft_attention(x_row, k=3):\n",
        "    \"\"\"Weight each 10‑feature sensor block by softmax(energy).\"\"\"\n",
        "    energies = [np.linalg.norm(x_row[s*10:(s+1)*10]) for s in range(k)]\n",
        "    exp_e = np.exp(energies - max(energies))\n",
        "    weights = exp_e / exp_e.sum()\n",
        "    # apply weights\n",
        "    out = x_row.copy()\n",
        "    for s, w in enumerate(weights):\n",
        "        out[s*10:(s+1)*10] *= w\n",
        "    return out\n",
        "\n",
        "X_train_att = np.array([soft_attention(r) for r in X_train])\n",
        "X_test_att  = np.array([soft_attention(r) for r in X_test])\n",
        "\n",
        "fusion = LogisticRegression(max_iter=1000, multi_class=\"multinomial\")\n",
        "fusion.fit(X_train_att, y_train)\n",
        "fusion_acc = accuracy_score(y_test, fusion.predict(X_test_att))\n",
        "print(f\"Eagle‑Eye fusion accuracy:           {fusion_acc:.3f}\")\n",
        "\n",
        "#   Confusion matrices\n",
        "fig, ax = plt.subplots(1, 2, figsize=(10, 4))\n",
        "for i, (model, data, title) in enumerate(\n",
        "        [(baseline, cam_test, \"Baseline\"),\n",
        "         (fusion,   X_test_att, \"Eagle‑Eye Fusion\")]):\n",
        "    cm = confusion_matrix(y_test, model.predict(data))\n",
        "    sns.heatmap(cm, annot=True, fmt=\"d\", cmap=\"Blues\",\n",
        "                cbar=False, ax=ax[i])\n",
        "    ax[i].set_title(title)\n",
        "    ax[i].set_xlabel(\"Predicted\"); ax[i].set_ylabel(\"True\")\n",
        "plt.tight_layout()\n",
        "\n"
      ]
    }
  ]
}